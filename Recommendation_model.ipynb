{
  "cells": [
    {
      "cell_type": "markdown",
      "metadata": {
        "id": "ok9-XLUQaLhS"
      },
      "source": [
        "## **Walmart Product Recommendation System Using Ensemble Modeling**\n",
        "\n",
        "### **Introduction**\n",
        "\n",
        "In this project, we aim to develop a comprehensive product recommendation system tailored for Walmart's retail environment. The primary goal is to leverage machine learning techniques to optimize inventory management and enhance the customer shopping experience through targeted product recommendations.\n",
        "\n",
        "The recommendation system is built on the foundation of demand forecasting. By analyzing historical sales data, we first identify high-demand and low-demand products. These insights are crucial not only for inventory optimization but also for driving promotional strategies aimed at boosting the sales of low-demand items.\n",
        "\n",
        "To generate accurate and meaningful recommendations, we employ an ensemble of collaborative filtering models, namely Singular Value Decomposition (SVD) and Non-negative Matrix Factorization (NMF). This ensemble approach allows us to combine the strengths of both models, enhancing the predictive power of our recommendation engine.\n",
        "\n",
        "The system is designed to recommend low-demand products to customers based on their purchase history and preferences, thereby improving product visibility and driving sales. Additionally, the inventory model monitors stock levels and suggests optimal refill strategies using Economic Order Quantity (EOQ) and stock level thresholds.\n",
        "\n",
        "This Google Colab notebook walks you through the entire process, from data loading and exploration to model training, evaluation, and deployment. Each step is carefully explained to ensure clarity and facilitate understanding of the underlying concepts and methodologies.\n",
        "\n",
        "Let's dive into the code and explore how we can make data-driven recommendations that not only satisfy customer needs but also optimize Walmart's inventory management.\n",
        "\n"
      ]
    },
    {
      "cell_type": "markdown",
      "metadata": {
        "id": "VXIgoYNtICEH"
      },
      "source": [
        "#Import Required Libraries\n",
        "We begin by importing the necessary libraries for data manipulation,\n",
        "modeling, and evaluation."
      ]
    },
    {
      "cell_type": "code",
      "execution_count": 7,
      "metadata": {
        "colab": {
          "base_uri": "https://localhost:8080/"
        },
        "id": "4h8DdY_nGNj9",
        "outputId": "2af85eb9-39c0-472b-d81a-8d22f2a4e0b9"
      },
      "outputs": [
        {
          "name": "stdout",
          "output_type": "stream",
          "text": [
            "Requirement already satisfied: scikit-surprise in /home/sj17/anaconda3/lib/python3.12/site-packages (1.1.4)\n",
            "Requirement already satisfied: joblib>=1.2.0 in /home/sj17/anaconda3/lib/python3.12/site-packages (from scikit-surprise) (1.4.2)\n",
            "Requirement already satisfied: numpy>=1.19.5 in /home/sj17/anaconda3/lib/python3.12/site-packages (from scikit-surprise) (1.26.4)\n",
            "Requirement already satisfied: scipy>=1.6.0 in /home/sj17/anaconda3/lib/python3.12/site-packages (from scikit-surprise) (1.13.1)\n"
          ]
        }
      ],
      "source": [
        "!pip install scikit-surprise"
      ]
    },
    {
      "cell_type": "code",
      "execution_count": 5,
      "metadata": {
        "id": "37qcpM3rQhmo"
      },
      "outputs": [],
      "source": [
        "import pandas as pd\n",
        "import numpy as np\n",
        "import warnings\n",
        "import joblib\n",
        "from surprise import SVD, NMF, Dataset, Reader, accuracy\n",
        "from surprise.model_selection import train_test_split, GridSearchCV\n",
        "\n",
        "# Suppress warnings for clean output\n",
        "warnings.filterwarnings(\"ignore\")"
      ]
    },
    {
      "cell_type": "markdown",
      "metadata": {
        "id": "aRDcY7-uImft"
      },
      "source": [
        "#Data Generation and Preparation\n",
        "\n",
        "Load the synthetic data into a DataFrame. This data is generated for\n",
        "building a recommendation system."
      ]
    },
    {
      "cell_type": "code",
      "execution_count": 6,
      "metadata": {
        "colab": {
          "base_uri": "https://localhost:8080/",
          "height": 17
        },
        "id": "5eohnbWEApbT",
        "outputId": "cf0e1344-4e4c-4c71-81af-7bb8c7bc9cf7"
      },
      "outputs": [
        {
          "ename": "ModuleNotFoundError",
          "evalue": "No module named 'google.colab'",
          "output_type": "error",
          "traceback": [
            "\u001b[0;31m---------------------------------------------------------------------------\u001b[0m",
            "\u001b[0;31mModuleNotFoundError\u001b[0m                       Traceback (most recent call last)",
            "Cell \u001b[0;32mIn[6], line 39\u001b[0m\n\u001b[1;32m     36\u001b[0m synthetic_df\u001b[38;5;241m.\u001b[39mto_csv(file_path, index\u001b[38;5;241m=\u001b[39m\u001b[38;5;28;01mFalse\u001b[39;00m)\n\u001b[1;32m     38\u001b[0m \u001b[38;5;66;03m# Download the file\u001b[39;00m\n\u001b[0;32m---> 39\u001b[0m \u001b[38;5;28;01mfrom\u001b[39;00m \u001b[38;5;21;01mgoogle\u001b[39;00m\u001b[38;5;21;01m.\u001b[39;00m\u001b[38;5;21;01mcolab\u001b[39;00m \u001b[38;5;28;01mimport\u001b[39;00m files\n\u001b[1;32m     40\u001b[0m files\u001b[38;5;241m.\u001b[39mdownload(file_path)\n",
            "\u001b[0;31mModuleNotFoundError\u001b[0m: No module named 'google.colab'"
          ]
        }
      ],
      "source": [
        "import pandas as pd\n",
        "import numpy as np\n",
        "\n",
        "# Seed for reproducibility\n",
        "np.random.seed(42)\n",
        "\n",
        "# Define parameters for the larger synthetic dataset\n",
        "num_customers = 3500\n",
        "num_products = 100\n",
        "\n",
        "# Product Categories\n",
        "product_categories = ['Electronics', 'Groceries', 'Clothing', 'Home & Kitchen', 'Toys', 'Sports', 'Books', 'Beauty']\n",
        "\n",
        "# Generate synthetic data\n",
        "data = {\n",
        "    'Product ID': np.random.choice(range(1, num_products + 1), num_customers),\n",
        "    'Product Category': np.random.choice(product_categories, num_customers),\n",
        "    'Customer ID': np.random.choice(range(1, num_customers + 1), num_customers),\n",
        "    'Preferred Product Categories': np.random.choice(product_categories, num_customers),\n",
        "    'Purchase Frequency': np.random.randint(1, 20, num_customers),\n",
        "    'Recency of Last Purchase': np.random.randint(1, 365, num_customers),\n",
        "    'Units Sold': np.random.randint(1, 100, num_customers),\n",
        "    'Annual Demand': np.random.randint(500, 10000, num_customers),\n",
        "    'Current Stock Level': np.random.randint(1, 500, num_customers)\n",
        "}\n",
        "\n",
        "# Create the DataFrame\n",
        "synthetic_df = pd.DataFrame(data)\n",
        "\n",
        "# Ensure some customers have multiple preferred categories\n",
        "for i in range(0, num_customers, 10):\n",
        "    synthetic_df.at[i, 'Preferred Product Categories'] = ', '.join(np.random.choice(product_categories, 2))\n",
        "\n",
        "# Save the DataFrame to a CSV file in Google Colab\n",
        "file_path = 'large_synthetic_walmart_recommendation_data.csv'\n",
        "synthetic_df.to_csv(file_path, index=False)\n",
        "\n",
        "# Download the file\n",
        "from google.colab import files\n",
        "files.download(file_path)\n"
      ]
    },
    {
      "cell_type": "markdown",
      "metadata": {
        "id": "eZfUJFztJEqF"
      },
      "source": [
        "#Define the Recommendation Threshold\n",
        "Define a threshold to identify low-demand products, which will be used\n",
        "to generate recommendations."
      ]
    },
    {
      "cell_type": "code",
      "execution_count": null,
      "metadata": {
        "id": "Z7uSj76uApX5"
      },
      "outputs": [],
      "source": [
        "np.random.seed(42)\n",
        "df = pd.read_csv('large_synthetic_walmart_recommendation_data.csv')\n",
        "\n",
        "\n",
        "low_demand_threshold = 2500  # This value can be adjusted based on business needs\n",
        "\n",
        "# Filter the dataset to get low-demand products\n",
        "low_demand_products = df[df['Annual Demand'] < low_demand_threshold]"
      ]
    },
    {
      "cell_type": "markdown",
      "metadata": {
        "id": "Bn2LeDLrJHE0"
      },
      "source": [
        "#Create the Recommendation List\n",
        "Generate recommendations by matching low-demand products with customers\n",
        "who have a preference for the corresponding product category."
      ]
    },
    {
      "cell_type": "code",
      "execution_count": null,
      "metadata": {
        "colab": {
          "base_uri": "https://localhost:8080/",
          "height": 380
        },
        "id": "Fv0X4JeTKHWd",
        "outputId": "da365954-2c7d-4afd-aefa-1af468dca828"
      },
      "outputs": [
        {
          "name": "stdout",
          "output_type": "stream",
          "text": [
            "Sample recommendations:\n"
          ]
        },
        {
          "data": {
            "application/vnd.google.colaboratory.intrinsic+json": {
              "type": "dataframe",
              "variable_name": "recommendations_df"
            },
            "text/html": [
              "\n",
              "  <div id=\"df-f72a9118-d6eb-41ca-8494-9b2e45fde27d\" class=\"colab-df-container\">\n",
              "    <div>\n",
              "<style scoped>\n",
              "    .dataframe tbody tr th:only-of-type {\n",
              "        vertical-align: middle;\n",
              "    }\n",
              "\n",
              "    .dataframe tbody tr th {\n",
              "        vertical-align: top;\n",
              "    }\n",
              "\n",
              "    .dataframe thead th {\n",
              "        text-align: right;\n",
              "    }\n",
              "</style>\n",
              "<table border=\"1\" class=\"dataframe\">\n",
              "  <thead>\n",
              "    <tr style=\"text-align: right;\">\n",
              "      <th></th>\n",
              "      <th>Customer ID</th>\n",
              "      <th>Product ID</th>\n",
              "      <th>Product Category</th>\n",
              "      <th>Purchase Frequency</th>\n",
              "      <th>Recency of Last Purchase</th>\n",
              "      <th>Units Sold</th>\n",
              "      <th>Current Stock Level</th>\n",
              "    </tr>\n",
              "  </thead>\n",
              "  <tbody>\n",
              "    <tr>\n",
              "      <th>0</th>\n",
              "      <td>1095</td>\n",
              "      <td>61</td>\n",
              "      <td>Toys</td>\n",
              "      <td>1</td>\n",
              "      <td>53</td>\n",
              "      <td>84</td>\n",
              "      <td>484</td>\n",
              "    </tr>\n",
              "    <tr>\n",
              "      <th>1</th>\n",
              "      <td>195</td>\n",
              "      <td>61</td>\n",
              "      <td>Toys</td>\n",
              "      <td>6</td>\n",
              "      <td>192</td>\n",
              "      <td>84</td>\n",
              "      <td>484</td>\n",
              "    </tr>\n",
              "    <tr>\n",
              "      <th>2</th>\n",
              "      <td>1460</td>\n",
              "      <td>61</td>\n",
              "      <td>Toys</td>\n",
              "      <td>1</td>\n",
              "      <td>147</td>\n",
              "      <td>84</td>\n",
              "      <td>484</td>\n",
              "    </tr>\n",
              "    <tr>\n",
              "      <th>3</th>\n",
              "      <td>2075</td>\n",
              "      <td>61</td>\n",
              "      <td>Toys</td>\n",
              "      <td>15</td>\n",
              "      <td>130</td>\n",
              "      <td>84</td>\n",
              "      <td>484</td>\n",
              "    </tr>\n",
              "    <tr>\n",
              "      <th>4</th>\n",
              "      <td>1188</td>\n",
              "      <td>61</td>\n",
              "      <td>Toys</td>\n",
              "      <td>17</td>\n",
              "      <td>99</td>\n",
              "      <td>84</td>\n",
              "      <td>484</td>\n",
              "    </tr>\n",
              "    <tr>\n",
              "      <th>5</th>\n",
              "      <td>3218</td>\n",
              "      <td>61</td>\n",
              "      <td>Toys</td>\n",
              "      <td>5</td>\n",
              "      <td>271</td>\n",
              "      <td>84</td>\n",
              "      <td>484</td>\n",
              "    </tr>\n",
              "    <tr>\n",
              "      <th>6</th>\n",
              "      <td>3102</td>\n",
              "      <td>61</td>\n",
              "      <td>Toys</td>\n",
              "      <td>7</td>\n",
              "      <td>272</td>\n",
              "      <td>84</td>\n",
              "      <td>484</td>\n",
              "    </tr>\n",
              "    <tr>\n",
              "      <th>7</th>\n",
              "      <td>692</td>\n",
              "      <td>61</td>\n",
              "      <td>Toys</td>\n",
              "      <td>11</td>\n",
              "      <td>73</td>\n",
              "      <td>84</td>\n",
              "      <td>484</td>\n",
              "    </tr>\n",
              "    <tr>\n",
              "      <th>8</th>\n",
              "      <td>3122</td>\n",
              "      <td>61</td>\n",
              "      <td>Toys</td>\n",
              "      <td>3</td>\n",
              "      <td>122</td>\n",
              "      <td>84</td>\n",
              "      <td>484</td>\n",
              "    </tr>\n",
              "    <tr>\n",
              "      <th>9</th>\n",
              "      <td>916</td>\n",
              "      <td>61</td>\n",
              "      <td>Toys</td>\n",
              "      <td>2</td>\n",
              "      <td>182</td>\n",
              "      <td>84</td>\n",
              "      <td>484</td>\n",
              "    </tr>\n",
              "  </tbody>\n",
              "</table>\n",
              "</div>\n",
              "    <div class=\"colab-df-buttons\">\n",
              "\n",
              "  <div class=\"colab-df-container\">\n",
              "    <button class=\"colab-df-convert\" onclick=\"convertToInteractive('df-f72a9118-d6eb-41ca-8494-9b2e45fde27d')\"\n",
              "            title=\"Convert this dataframe to an interactive table.\"\n",
              "            style=\"display:none;\">\n",
              "\n",
              "  <svg xmlns=\"http://www.w3.org/2000/svg\" height=\"24px\" viewBox=\"0 -960 960 960\">\n",
              "    <path d=\"M120-120v-720h720v720H120Zm60-500h600v-160H180v160Zm220 220h160v-160H400v160Zm0 220h160v-160H400v160ZM180-400h160v-160H180v160Zm440 0h160v-160H620v160ZM180-180h160v-160H180v160Zm440 0h160v-160H620v160Z\"/>\n",
              "  </svg>\n",
              "    </button>\n",
              "\n",
              "  <style>\n",
              "    .colab-df-container {\n",
              "      display:flex;\n",
              "      gap: 12px;\n",
              "    }\n",
              "\n",
              "    .colab-df-convert {\n",
              "      background-color: #E8F0FE;\n",
              "      border: none;\n",
              "      border-radius: 50%;\n",
              "      cursor: pointer;\n",
              "      display: none;\n",
              "      fill: #1967D2;\n",
              "      height: 32px;\n",
              "      padding: 0 0 0 0;\n",
              "      width: 32px;\n",
              "    }\n",
              "\n",
              "    .colab-df-convert:hover {\n",
              "      background-color: #E2EBFA;\n",
              "      box-shadow: 0px 1px 2px rgba(60, 64, 67, 0.3), 0px 1px 3px 1px rgba(60, 64, 67, 0.15);\n",
              "      fill: #174EA6;\n",
              "    }\n",
              "\n",
              "    .colab-df-buttons div {\n",
              "      margin-bottom: 4px;\n",
              "    }\n",
              "\n",
              "    [theme=dark] .colab-df-convert {\n",
              "      background-color: #3B4455;\n",
              "      fill: #D2E3FC;\n",
              "    }\n",
              "\n",
              "    [theme=dark] .colab-df-convert:hover {\n",
              "      background-color: #434B5C;\n",
              "      box-shadow: 0px 1px 3px 1px rgba(0, 0, 0, 0.15);\n",
              "      filter: drop-shadow(0px 1px 2px rgba(0, 0, 0, 0.3));\n",
              "      fill: #FFFFFF;\n",
              "    }\n",
              "  </style>\n",
              "\n",
              "    <script>\n",
              "      const buttonEl =\n",
              "        document.querySelector('#df-f72a9118-d6eb-41ca-8494-9b2e45fde27d button.colab-df-convert');\n",
              "      buttonEl.style.display =\n",
              "        google.colab.kernel.accessAllowed ? 'block' : 'none';\n",
              "\n",
              "      async function convertToInteractive(key) {\n",
              "        const element = document.querySelector('#df-f72a9118-d6eb-41ca-8494-9b2e45fde27d');\n",
              "        const dataTable =\n",
              "          await google.colab.kernel.invokeFunction('convertToInteractive',\n",
              "                                                    [key], {});\n",
              "        if (!dataTable) return;\n",
              "\n",
              "        const docLinkHtml = 'Like what you see? Visit the ' +\n",
              "          '<a target=\"_blank\" href=https://colab.research.google.com/notebooks/data_table.ipynb>data table notebook</a>'\n",
              "          + ' to learn more about interactive tables.';\n",
              "        element.innerHTML = '';\n",
              "        dataTable['output_type'] = 'display_data';\n",
              "        await google.colab.output.renderOutput(dataTable, element);\n",
              "        const docLink = document.createElement('div');\n",
              "        docLink.innerHTML = docLinkHtml;\n",
              "        element.appendChild(docLink);\n",
              "      }\n",
              "    </script>\n",
              "  </div>\n",
              "\n",
              "\n",
              "<div id=\"df-2ebb425b-af87-46fc-86d1-39619164ad72\">\n",
              "  <button class=\"colab-df-quickchart\" onclick=\"quickchart('df-2ebb425b-af87-46fc-86d1-39619164ad72')\"\n",
              "            title=\"Suggest charts\"\n",
              "            style=\"display:none;\">\n",
              "\n",
              "<svg xmlns=\"http://www.w3.org/2000/svg\" height=\"24px\"viewBox=\"0 0 24 24\"\n",
              "     width=\"24px\">\n",
              "    <g>\n",
              "        <path d=\"M19 3H5c-1.1 0-2 .9-2 2v14c0 1.1.9 2 2 2h14c1.1 0 2-.9 2-2V5c0-1.1-.9-2-2-2zM9 17H7v-7h2v7zm4 0h-2V7h2v10zm4 0h-2v-4h2v4z\"/>\n",
              "    </g>\n",
              "</svg>\n",
              "  </button>\n",
              "\n",
              "<style>\n",
              "  .colab-df-quickchart {\n",
              "      --bg-color: #E8F0FE;\n",
              "      --fill-color: #1967D2;\n",
              "      --hover-bg-color: #E2EBFA;\n",
              "      --hover-fill-color: #174EA6;\n",
              "      --disabled-fill-color: #AAA;\n",
              "      --disabled-bg-color: #DDD;\n",
              "  }\n",
              "\n",
              "  [theme=dark] .colab-df-quickchart {\n",
              "      --bg-color: #3B4455;\n",
              "      --fill-color: #D2E3FC;\n",
              "      --hover-bg-color: #434B5C;\n",
              "      --hover-fill-color: #FFFFFF;\n",
              "      --disabled-bg-color: #3B4455;\n",
              "      --disabled-fill-color: #666;\n",
              "  }\n",
              "\n",
              "  .colab-df-quickchart {\n",
              "    background-color: var(--bg-color);\n",
              "    border: none;\n",
              "    border-radius: 50%;\n",
              "    cursor: pointer;\n",
              "    display: none;\n",
              "    fill: var(--fill-color);\n",
              "    height: 32px;\n",
              "    padding: 0;\n",
              "    width: 32px;\n",
              "  }\n",
              "\n",
              "  .colab-df-quickchart:hover {\n",
              "    background-color: var(--hover-bg-color);\n",
              "    box-shadow: 0 1px 2px rgba(60, 64, 67, 0.3), 0 1px 3px 1px rgba(60, 64, 67, 0.15);\n",
              "    fill: var(--button-hover-fill-color);\n",
              "  }\n",
              "\n",
              "  .colab-df-quickchart-complete:disabled,\n",
              "  .colab-df-quickchart-complete:disabled:hover {\n",
              "    background-color: var(--disabled-bg-color);\n",
              "    fill: var(--disabled-fill-color);\n",
              "    box-shadow: none;\n",
              "  }\n",
              "\n",
              "  .colab-df-spinner {\n",
              "    border: 2px solid var(--fill-color);\n",
              "    border-color: transparent;\n",
              "    border-bottom-color: var(--fill-color);\n",
              "    animation:\n",
              "      spin 1s steps(1) infinite;\n",
              "  }\n",
              "\n",
              "  @keyframes spin {\n",
              "    0% {\n",
              "      border-color: transparent;\n",
              "      border-bottom-color: var(--fill-color);\n",
              "      border-left-color: var(--fill-color);\n",
              "    }\n",
              "    20% {\n",
              "      border-color: transparent;\n",
              "      border-left-color: var(--fill-color);\n",
              "      border-top-color: var(--fill-color);\n",
              "    }\n",
              "    30% {\n",
              "      border-color: transparent;\n",
              "      border-left-color: var(--fill-color);\n",
              "      border-top-color: var(--fill-color);\n",
              "      border-right-color: var(--fill-color);\n",
              "    }\n",
              "    40% {\n",
              "      border-color: transparent;\n",
              "      border-right-color: var(--fill-color);\n",
              "      border-top-color: var(--fill-color);\n",
              "    }\n",
              "    60% {\n",
              "      border-color: transparent;\n",
              "      border-right-color: var(--fill-color);\n",
              "    }\n",
              "    80% {\n",
              "      border-color: transparent;\n",
              "      border-right-color: var(--fill-color);\n",
              "      border-bottom-color: var(--fill-color);\n",
              "    }\n",
              "    90% {\n",
              "      border-color: transparent;\n",
              "      border-bottom-color: var(--fill-color);\n",
              "    }\n",
              "  }\n",
              "</style>\n",
              "\n",
              "  <script>\n",
              "    async function quickchart(key) {\n",
              "      const quickchartButtonEl =\n",
              "        document.querySelector('#' + key + ' button');\n",
              "      quickchartButtonEl.disabled = true;  // To prevent multiple clicks.\n",
              "      quickchartButtonEl.classList.add('colab-df-spinner');\n",
              "      try {\n",
              "        const charts = await google.colab.kernel.invokeFunction(\n",
              "            'suggestCharts', [key], {});\n",
              "      } catch (error) {\n",
              "        console.error('Error during call to suggestCharts:', error);\n",
              "      }\n",
              "      quickchartButtonEl.classList.remove('colab-df-spinner');\n",
              "      quickchartButtonEl.classList.add('colab-df-quickchart-complete');\n",
              "    }\n",
              "    (() => {\n",
              "      let quickchartButtonEl =\n",
              "        document.querySelector('#df-2ebb425b-af87-46fc-86d1-39619164ad72 button');\n",
              "      quickchartButtonEl.style.display =\n",
              "        google.colab.kernel.accessAllowed ? 'block' : 'none';\n",
              "    })();\n",
              "  </script>\n",
              "</div>\n",
              "\n",
              "    </div>\n",
              "  </div>\n"
            ],
            "text/plain": [
              "   Customer ID  Product ID Product Category  Purchase Frequency  \\\n",
              "0         1095          61             Toys                   1   \n",
              "1          195          61             Toys                   6   \n",
              "2         1460          61             Toys                   1   \n",
              "3         2075          61             Toys                  15   \n",
              "4         1188          61             Toys                  17   \n",
              "5         3218          61             Toys                   5   \n",
              "6         3102          61             Toys                   7   \n",
              "7          692          61             Toys                  11   \n",
              "8         3122          61             Toys                   3   \n",
              "9          916          61             Toys                   2   \n",
              "\n",
              "   Recency of Last Purchase  Units Sold  Current Stock Level  \n",
              "0                        53          84                  484  \n",
              "1                       192          84                  484  \n",
              "2                       147          84                  484  \n",
              "3                       130          84                  484  \n",
              "4                        99          84                  484  \n",
              "5                       271          84                  484  \n",
              "6                       272          84                  484  \n",
              "7                        73          84                  484  \n",
              "8                       122          84                  484  \n",
              "9                       182          84                  484  "
            ]
          },
          "execution_count": 5,
          "metadata": {},
          "output_type": "execute_result"
        }
      ],
      "source": [
        "# Initialize an empty list to store the recommendations\n",
        "recommendations = []\n",
        "\n",
        "# Iterate through each low-demand product\n",
        "for _, product_row in low_demand_products.iterrows():\n",
        "    product_category = product_row['Product Category']\n",
        "\n",
        "    # Find customers whose preferred categories include the product category\n",
        "    for _, customer_row in df.iterrows():\n",
        "        preferred_categories = customer_row['Preferred Product Categories']\n",
        "\n",
        "        # Check if the customer's preferred categories match the product's category\n",
        "        if product_category in preferred_categories:\n",
        "            # Append relevant data to the recommendations list\n",
        "            recommendations.append({\n",
        "                'Customer ID': customer_row['Customer ID'],\n",
        "                'Product ID': product_row['Product ID'],\n",
        "                'Product Category': product_row['Product Category'],\n",
        "                'Purchase Frequency': customer_row['Purchase Frequency'],\n",
        "                'Recency of Last Purchase': customer_row['Recency of Last Purchase'],\n",
        "                'Units Sold': product_row['Units Sold'],\n",
        "                'Current Stock Level': product_row['Current Stock Level']\n",
        "            })\n",
        "\n",
        "# Convert the recommendations list to a DataFrame for further processing\n",
        "recommendations_df = pd.DataFrame(recommendations)\n",
        "\n",
        "# Display the first few recommendations\n",
        "print(\"Sample recommendations:\")\n",
        "recommendations_df.head(10)\n"
      ]
    },
    {
      "cell_type": "markdown",
      "metadata": {
        "id": "L6VsRLZcKUhc"
      },
      "source": [
        "#Evaluate Recommendation Quality\n",
        "We evaluate the quality of recommendations by calculating precision and recall.\n",
        "Precision is the proportion of recommended items that are actually purchased.\n",
        "Recall is the proportion of actual purchases that were recommended."
      ]
    },
    {
      "cell_type": "code",
      "execution_count": null,
      "metadata": {
        "colab": {
          "base_uri": "https://localhost:8080/"
        },
        "id": "E89A14tNKbZe",
        "outputId": "03827674-55ca-4ba7-fb8e-18d06a747a11"
      },
      "outputs": [
        {
          "name": "stdout",
          "output_type": "stream",
          "text": [
            "Precision: 0.20\n",
            "Recall: 0.10\n"
          ]
        }
      ],
      "source": [
        "# Simulate actual purchases (for demonstration purposes)\n",
        "np.random.seed(42)\n",
        "recommendations_df['Purchased'] = np.random.choice([0, 1], size=len(recommendations_df), p=[0.8, 0.2])\n",
        "\n",
        "# Calculate Precision\n",
        "precision = recommendations_df[recommendations_df['Purchased'] == 1].shape[0] / recommendations_df.shape[0]\n",
        "\n",
        "# Simulate actual low-demand product purchase rate (for demonstration purposes)\n",
        "actual_low_demand_purchases = np.random.choice([0, 1], size=len(low_demand_products), p=[0.9, 0.1])\n",
        "\n",
        "# Calculate Recall\n",
        "recall = sum(actual_low_demand_purchases) / len(low_demand_products)\n",
        "\n",
        "print(f\"Precision: {precision:.2f}\")\n",
        "print(f\"Recall: {recall:.2f}\")"
      ]
    },
    {
      "cell_type": "markdown",
      "metadata": {
        "id": "8fG5Y4tkKiU2"
      },
      "source": [
        "#Train Collaborative Filtering Models\n",
        "Use collaborative filtering techniques such as SVD and NMF to generate recommendations.\n",
        "These techniques factorize the matrix of customer-product interactions and predict ratings for products not yet purchased by a customer."
      ]
    },
    {
      "cell_type": "code",
      "execution_count": null,
      "metadata": {
        "id": "HkMggtB0Kr-j"
      },
      "outputs": [],
      "source": [
        "# Convert the data to Surprise's required format\n",
        "reader = Reader(rating_scale=(1, 5))\n",
        "data = Dataset.load_from_df(df[['Customer ID', 'Product ID', 'Units Sold']], reader)\n",
        "\n",
        "# Split the data into training and testing sets\n",
        "trainset, testset = train_test_split(data, test_size=0.25)"
      ]
    },
    {
      "cell_type": "markdown",
      "metadata": {
        "id": "Nmdt3W-ZKyd9"
      },
      "source": [
        "#Model Training with SVD\n",
        "Train a Singular Value Decomposition (SVD) model to predict product ratings."
      ]
    },
    {
      "cell_type": "code",
      "execution_count": null,
      "metadata": {
        "colab": {
          "base_uri": "https://localhost:8080/"
        },
        "id": "Uc3ajVdoApVg",
        "outputId": "74b39892-66b5-442b-c916-59c20d7e9272"
      },
      "outputs": [
        {
          "name": "stdout",
          "output_type": "stream",
          "text": [
            "RMSE: 53.5662\n"
          ]
        },
        {
          "data": {
            "text/plain": [
              "53.5662260330945"
            ]
          },
          "execution_count": 8,
          "metadata": {},
          "output_type": "execute_result"
        }
      ],
      "source": [
        "\n",
        "algo_svd = SVD()\n",
        "algo_svd.fit(trainset)\n",
        "\n",
        "# Evaluate the model on the test set\n",
        "predictions_svd = algo_svd.test(testset)\n",
        "accuracy.rmse(predictions_svd)"
      ]
    },
    {
      "cell_type": "markdown",
      "metadata": {
        "id": "2BWQ8dGKNr7Y"
      },
      "source": [
        "#Model Training with NMF\n",
        "Train a Non-negative Matrix Factorization (NMF) model to predict product ratings."
      ]
    },
    {
      "cell_type": "code",
      "execution_count": null,
      "metadata": {
        "colab": {
          "base_uri": "https://localhost:8080/"
        },
        "id": "8lDUa3bYApTI",
        "outputId": "a4ea76df-6ce0-4fd9-f177-179be595960c"
      },
      "outputs": [
        {
          "name": "stdout",
          "output_type": "stream",
          "text": [
            "RMSE: 53.9340\n"
          ]
        },
        {
          "data": {
            "text/plain": [
              "53.93402901509188"
            ]
          },
          "execution_count": 10,
          "metadata": {},
          "output_type": "execute_result"
        }
      ],
      "source": [
        "algo_nmf = NMF()\n",
        "algo_nmf.fit(trainset)\n",
        "\n",
        "# Evaluate the model on the test set\n",
        "predictions_nmf = algo_nmf.test(testset)\n",
        "accuracy.rmse(predictions_nmf)"
      ]
    },
    {
      "cell_type": "markdown",
      "metadata": {
        "id": "-Ner3Y2XN00f"
      },
      "source": [
        "#Perform Grid Search for Hyperparameter Tuning\n",
        "Use GridSearchCV to find the best hyperparameters for both SVD and NMF models.\n"
      ]
    },
    {
      "cell_type": "code",
      "execution_count": null,
      "metadata": {
        "id": "j8gsxh0tHG5C"
      },
      "outputs": [],
      "source": [
        "# Define parameter grid for SVD\n",
        "param_grid_svd = {\n",
        "    'n_factors': [20, 50, 100],\n",
        "    'reg_all': [0.02, 0.05, 0.1, 0.2]\n",
        "}\n",
        "\n",
        "# Define parameter grid for NMF\n",
        "param_grid_nmf = {\n",
        "    'n_factors': [20, 50, 100],\n",
        "    'reg_pu': [0.02, 0.05, 0.1],\n",
        "    'reg_qi': [0.02, 0.05, 0.1]\n",
        "}\n",
        "\n",
        "# Grid Search for SVD\n",
        "gs_svd = GridSearchCV(SVD, param_grid_svd, measures=['rmse'], cv=5)\n",
        "gs_svd.fit(data)\n",
        "best_svd = gs_svd.best_estimator['rmse']\n",
        "\n",
        "# Grid Search for NMF\n",
        "gs_nmf = GridSearchCV(NMF, param_grid_nmf, measures=['rmse'], cv=5)\n",
        "gs_nmf.fit(data)\n",
        "best_nmf = gs_nmf.best_estimator['rmse']\n"
      ]
    },
    {
      "cell_type": "markdown",
      "metadata": {
        "id": "uqEexihjOOg3"
      },
      "source": [
        "#Ensemble of SVD and NMF\n",
        "Combine the predictions from both SVD and NMF using an ensemble method\n",
        "to leverage the strengths of both models."
      ]
    },
    {
      "cell_type": "code",
      "execution_count": null,
      "metadata": {
        "colab": {
          "base_uri": "https://localhost:8080/"
        },
        "id": "h4KCoxt-HSIo",
        "outputId": "f2c26c1d-b668-42b1-afec-8a44daf2189a"
      },
      "outputs": [
        {
          "name": "stdout",
          "output_type": "stream",
          "text": [
            "RMSE: 53.5979\n",
            "MAE:  45.5931\n",
            "Ensemble RMSE: 53.5979288010649\n",
            "Ensemble MAE: 45.593142599708564\n"
          ]
        }
      ],
      "source": [
        "class EnsembleRegressor:\n",
        "    def __init__(self, algorithms):\n",
        "        self.algorithms = algorithms\n",
        "\n",
        "    def fit(self, trainset):\n",
        "        for algo in self.algorithms:\n",
        "            algo.fit(trainset)\n",
        "\n",
        "    def predict(self, testset):\n",
        "        predictions = []\n",
        "        for algo in self.algorithms:\n",
        "            algo_predictions = algo.test(testset)\n",
        "            predictions.append([pred.est for pred in algo_predictions])\n",
        "        avg_predictions = np.mean(predictions, axis=0)\n",
        "        final_predictions = [(pred[0], pred[1], avg_predictions[i], pred[2], None) for i, pred in enumerate(testset)]\n",
        "        return final_predictions\n",
        "\n",
        "ensemble = EnsembleRegressor([best_svd, best_nmf])\n",
        "ensemble.fit(trainset)\n",
        "ensemble_predictions = ensemble.predict(testset)\n",
        "\n",
        "# Evaluate the ensemble model\n",
        "ensemble_rmse = accuracy.rmse(ensemble_predictions)\n",
        "ensemble_mae = accuracy.mae(ensemble_predictions)\n",
        "\n",
        "print(f'Ensemble RMSE: {ensemble_rmse}')\n",
        "print(f'Ensemble MAE: {ensemble_mae}')"
      ]
    },
    {
      "cell_type": "markdown",
      "metadata": {
        "id": "q9z-Ti4iOY-G"
      },
      "source": [
        "#Save the Model\n",
        "Save the trained ensemble model to a file for later use."
      ]
    },
    {
      "cell_type": "code",
      "execution_count": null,
      "metadata": {
        "colab": {
          "base_uri": "https://localhost:8080/"
        },
        "id": "ORp6VhwJOfNv",
        "outputId": "530d1e11-75b1-4c8d-914c-8f23f5b0b521"
      },
      "outputs": [
        {
          "data": {
            "text/plain": [
              "['ensemble_recommendation_model.joblib']"
            ]
          },
          "execution_count": 13,
          "metadata": {},
          "output_type": "execute_result"
        }
      ],
      "source": [
        "import joblib\n",
        "joblib.dump(ensemble, 'ensemble_recommendation_model.joblib')\n",
        "\n",
        "# The model can be loaded using:\n",
        "# model = joblib.load('ensemble_recommendation_model.joblib')"
      ]
    },
    {
      "cell_type": "markdown",
      "metadata": {
        "id": "cpRV0da9aVty"
      },
      "source": [
        "#Function to get Recommendations"
      ]
    },
    {
      "cell_type": "code",
      "execution_count": null,
      "metadata": {
        "id": "0R1OJ0N0VotK"
      },
      "outputs": [],
      "source": [
        "# Function to Get Recommendations Using the Trained Model\n",
        "def get_recommendations_for_customer(customer_id, df, model, n_recommendations=15):\n",
        "    \"\"\"\n",
        "    This function generates a list of recommended products for a given customer ID\n",
        "    using the trained ensemble model.\n",
        "\n",
        "    Parameters:\n",
        "    - customer_id (int): The ID of the customer for whom to generate recommendations.\n",
        "    - df (DataFrame): The dataframe containing customer and product information.\n",
        "    - model (EnsembleRegressor): The trained ensemble model.\n",
        "    - n_recommendations (int): The number of recommendations to return (default is 15).\n",
        "\n",
        "    Returns:\n",
        "    - DataFrame: A dataframe containing the recommended products with predicted ratings.\n",
        "    \"\"\"\n",
        "\n",
        "    # Get all product IDs the customer has not yet purchased\n",
        "    purchased_products = df[df['Customer ID'] == customer_id]['Product ID'].unique()\n",
        "    all_products = df['Product ID'].unique()\n",
        "    products_to_predict = [prod for prod in all_products if prod not in purchased_products]\n",
        "\n",
        "    # Generate predictions for these products\n",
        "    predictions = []\n",
        "    for product_id in products_to_predict:\n",
        "        prediction = model.predict([(customer_id, product_id, 0)])\n",
        "        predictions.append((product_id, prediction[0][2]))  # Extracting the predicted rating\n",
        "\n",
        "    # Convert predictions to a DataFrame\n",
        "    predictions_df = pd.DataFrame(predictions, columns=['Product ID', 'Predicted Rating'])\n",
        "\n",
        "    # Sort the predictions by rating\n",
        "    recommendations_df = predictions_df.sort_values(by='Predicted Rating', ascending=False).head(n_recommendations)\n",
        "\n",
        "    # Merge with the original dataframe to get additional product details (optional)\n",
        "    recommendations_df = recommendations_df.merge(df[['Product ID', 'Product Category']].drop_duplicates(), on='Product ID')\n",
        "\n",
        "    return recommendations_df\n"
      ]
    },
    {
      "cell_type": "code",
      "execution_count": null,
      "metadata": {
        "id": "6l8NuCCJZyzm"
      },
      "outputs": [],
      "source": []
    }
  ],
  "metadata": {
    "colab": {
      "provenance": [],
      "toc_visible": true
    },
    "kernelspec": {
      "display_name": "Python 3",
      "name": "python3"
    },
    "language_info": {
      "codemirror_mode": {
        "name": "ipython",
        "version": 3
      },
      "file_extension": ".py",
      "mimetype": "text/x-python",
      "name": "python",
      "nbconvert_exporter": "python",
      "pygments_lexer": "ipython3",
      "version": "3.12.4"
    }
  },
  "nbformat": 4,
  "nbformat_minor": 0
}
