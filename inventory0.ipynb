{
  "nbformat": 4,
  "nbformat_minor": 0,
  "metadata": {
    "colab": {
      "provenance": []
    },
    "kernelspec": {
      "name": "python3",
      "display_name": "Python 3"
    },
    "language_info": {
      "name": "python"
    }
  },
  "cells": [
    {
      "cell_type": "code",
      "execution_count": null,
      "metadata": {
        "id": "Ay9inxkmL5UM"
      },
      "outputs": [],
      "source": []
    },
    {
      "cell_type": "code",
      "source": [
        "import math\n",
        "import pandas as pd\n",
        "\n",
        "# Load your dataset from a CSV file\n",
        "# Replace 'path_to_your_file.csv' with the actual file path\n",
        "df = pd.read_csv('data.csv')\n",
        "\n",
        "# Select the relevant columns using .loc\n",
        "df = df.loc[:, ['Product ID', 'Product Category', 'Store ID', 'Annual Demand',\n",
        "                'Ordering Cost', 'Holding Cost', 'Lead Time',\n",
        "                'Standard Deviation of Demand', 'Current Stock Level']]\n",
        "\n",
        "# Assume high-demand products are provided from the demand forecasting model\n",
        "# This list should match the 'Product ID' in your dataset\n",
        "high_demand_products = [9, 23]  # Replace with actual product IDs from your forecasting model\n",
        "\n",
        "# Filter the DataFrame to include only high-demand products using .loc\n",
        "high_demand_df = df.loc[df['Product ID'].isin(high_demand_products)]\n",
        "\n",
        "# Calculate the optimal order quantity (formerly EOQ) for each high-demand product\n",
        "high_demand_df.loc[:, 'Optimal Order Quantity'] = high_demand_df.apply(lambda row: math.sqrt(2 * row['Annual Demand'] * row['Ordering Cost'] / row['Holding Cost']), axis=1)\n",
        "\n",
        "# Calculate average daily demand\n",
        "high_demand_df.loc[:, 'Average Daily Demand'] = high_demand_df['Annual Demand'] / 365\n",
        "\n",
        "# Calculate buffer stock (formerly Safety Stock) (Assuming a Z-value of 1.65 for a 95% service level)\n",
        "high_demand_df.loc[:, 'Buffer Stock'] = high_demand_df.apply(lambda row: 1.65 * row['Standard Deviation of Demand'] * math.sqrt(row['Lead Time']), axis=1)\n",
        "\n",
        "# Calculate reorder trigger (formerly Reorder Point)\n",
        "high_demand_df.loc[:, 'Reorder Trigger'] = high_demand_df['Average Daily Demand'] * high_demand_df['Lead Time'] + high_demand_df['Buffer Stock']\n",
        "\n",
        "# Determine if an order should be placed and add a \"Place Order\" column\n",
        "high_demand_df.loc[:, 'Place Order'] = high_demand_df.apply(\n",
        "    lambda row: 'Yes' if row['Current Stock Level'] <= row['Reorder Trigger'] else 'No', axis=1\n",
        ")\n",
        "\n",
        "# Display results for high-demand products with the \"Place Order\" column\n",
        "high_demand_df_output = high_demand_df.loc[:, ['Product ID','Product Category','Store ID','Optimal Order Quantity', 'Buffer Stock', 'Reorder Trigger', 'Current Stock Level', 'Place Order']]\n",
        "print(high_demand_df_output)\n"
      ],
      "metadata": {
        "colab": {
          "base_uri": "https://localhost:8080/"
        },
        "id": "5A1FRQLoMOXI",
        "outputId": "ee10cf84-0684-46aa-b137-791549467cbc"
      },
      "execution_count": 15,
      "outputs": [
        {
          "output_type": "stream",
          "name": "stdout",
          "text": [
            "      Product ID Product Category  Store ID  Optimal Order Quantity  \\\n",
            "0              9   Home & Kitchen        10              245.181278   \n",
            "1             23      Electronics         6              689.844157   \n",
            "7              9        Groceries         4              495.116871   \n",
            "69             9         Clothing         1              213.801941   \n",
            "98             9         Clothing         9              486.930279   \n",
            "...          ...              ...       ...                     ...   \n",
            "2565           9      Electronics         9              233.704081   \n",
            "2584           9             Toys         1              200.348388   \n",
            "2789          23   Home & Kitchen         5              166.419037   \n",
            "2946          23             Toys         8              636.613327   \n",
            "2993          23         Clothing         3              538.123713   \n",
            "\n",
            "      Buffer Stock  Reorder Trigger  Current Stock Level Place Order  \n",
            "0      1111.895228      1171.884269                  149         Yes  \n",
            "1       771.947226       806.308870                  133         Yes  \n",
            "7      2038.217819      2196.130147                   64         Yes  \n",
            "69      531.619039       587.783422                   47         Yes  \n",
            "98     1536.468868      1678.277087                    9         Yes  \n",
            "...            ...              ...                  ...         ...  \n",
            "2565    415.949917       422.867725                   94         Yes  \n",
            "2584    158.093741       186.559494                   90         Yes  \n",
            "2789   1176.445261      1240.163070                  172         Yes  \n",
            "2946   1376.640908      1593.671044                   68         Yes  \n",
            "2993    400.977369       435.278739                  192         Yes  \n",
            "\n",
            "[63 rows x 8 columns]\n"
          ]
        },
        {
          "output_type": "stream",
          "name": "stderr",
          "text": [
            "<ipython-input-15-4405cf991d9f>:21: SettingWithCopyWarning: \n",
            "A value is trying to be set on a copy of a slice from a DataFrame.\n",
            "Try using .loc[row_indexer,col_indexer] = value instead\n",
            "\n",
            "See the caveats in the documentation: https://pandas.pydata.org/pandas-docs/stable/user_guide/indexing.html#returning-a-view-versus-a-copy\n",
            "  high_demand_df.loc[:, 'Optimal Order Quantity'] = high_demand_df.apply(lambda row: math.sqrt(2 * row['Annual Demand'] * row['Ordering Cost'] / row['Holding Cost']), axis=1)\n",
            "<ipython-input-15-4405cf991d9f>:24: SettingWithCopyWarning: \n",
            "A value is trying to be set on a copy of a slice from a DataFrame.\n",
            "Try using .loc[row_indexer,col_indexer] = value instead\n",
            "\n",
            "See the caveats in the documentation: https://pandas.pydata.org/pandas-docs/stable/user_guide/indexing.html#returning-a-view-versus-a-copy\n",
            "  high_demand_df.loc[:, 'Average Daily Demand'] = high_demand_df['Annual Demand'] / 365\n",
            "<ipython-input-15-4405cf991d9f>:27: SettingWithCopyWarning: \n",
            "A value is trying to be set on a copy of a slice from a DataFrame.\n",
            "Try using .loc[row_indexer,col_indexer] = value instead\n",
            "\n",
            "See the caveats in the documentation: https://pandas.pydata.org/pandas-docs/stable/user_guide/indexing.html#returning-a-view-versus-a-copy\n",
            "  high_demand_df.loc[:, 'Buffer Stock'] = high_demand_df.apply(lambda row: 1.65 * row['Standard Deviation of Demand'] * math.sqrt(row['Lead Time']), axis=1)\n",
            "<ipython-input-15-4405cf991d9f>:30: SettingWithCopyWarning: \n",
            "A value is trying to be set on a copy of a slice from a DataFrame.\n",
            "Try using .loc[row_indexer,col_indexer] = value instead\n",
            "\n",
            "See the caveats in the documentation: https://pandas.pydata.org/pandas-docs/stable/user_guide/indexing.html#returning-a-view-versus-a-copy\n",
            "  high_demand_df.loc[:, 'Reorder Trigger'] = high_demand_df['Average Daily Demand'] * high_demand_df['Lead Time'] + high_demand_df['Buffer Stock']\n",
            "<ipython-input-15-4405cf991d9f>:33: SettingWithCopyWarning: \n",
            "A value is trying to be set on a copy of a slice from a DataFrame.\n",
            "Try using .loc[row_indexer,col_indexer] = value instead\n",
            "\n",
            "See the caveats in the documentation: https://pandas.pydata.org/pandas-docs/stable/user_guide/indexing.html#returning-a-view-versus-a-copy\n",
            "  high_demand_df.loc[:, 'Place Order'] = high_demand_df.apply(\n"
          ]
        }
      ]
    }
  ]
}